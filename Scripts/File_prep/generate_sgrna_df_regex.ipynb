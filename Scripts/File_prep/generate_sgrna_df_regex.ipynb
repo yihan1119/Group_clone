{
 "cells": [
  {
   "cell_type": "code",
   "execution_count": 1,
   "metadata": {},
   "outputs": [],
   "source": [
    "#!/usr/bin/env python3\n",
    "import os\n",
    "import re\n",
    "import sys\n",
    "import collections\n",
    "import argparse\n",
    "import tables\n",
    "import itertools\n",
    "import matplotlib\n",
    "import numba\n",
    "#%matplotlib inline\n",
    "\n",
    "\n",
    "import matplotlib.pyplot as plt\n",
    "import numpy as np\n",
    "import pandas as pd\n",
    "import scipy.stats as stats\n",
    "import scipy.sparse as sp_sparse\n",
    "\n",
    "from multiprocessing import Pool\n",
    "from collections import defaultdict\n",
    "from scipy import sparse, io\n",
    "from scipy.sparse import csr_matrix\n",
    "from multiprocessing import Pool\n",
    "\n",
    "np.random.seed(0)\n",
    "\n",
    "\n",
    "\n",
    "#Function to define the turning point of a cumulative curve by using the minimum derivative method\n",
    "def nested_dict(n, type):\n",
    "    if n == 1:\n",
    "        return defaultdict(type)\n",
    "    else:\n",
    "        return defaultdict(lambda: nested_dict(n-1, type))\n",
    "def turn_point(sgRNA_name, df):\n",
    "    sgRNA_count  = df.T.filter(items=[sgRNA_name]).sum(axis=1).sort_values(ascending=False)\n",
    "    sgRNA_cumsum = sgRNA_count.cumsum()\n",
    "\n",
    "    #get the total cell number of this sgRNA\n",
    "    cell_num = np.argwhere(sgRNA_count > 0).size\n",
    "\n",
    "    #calculate the turning point by using the max derivative\n",
    "    turning_point = sgRNA_cumsum.loc[((sgRNA_cumsum.diff()) / sgRNA_count.sum() > (1/cell_num))].shape\n",
    "    \n",
    "    return(sgRNA_count.iloc[turning_point])\n",
    "\n",
    "#load sgRNA-barcode data\n",
    "def load_data(input_file):\n",
    "    input_fh  = open(input_file, 'r')\n",
    "    #define parameters\n",
    "    cell_bc_list   = []\n",
    "    num_sgRNA_list = np.array([])\n",
    "    sgRNAs         = []\n",
    "    umis           = []\n",
    "    \n",
    "    #initiate a 2D dictionary\n",
    "    data_dict = nested_dict(2, list)\n",
    "    for line in input_fh:\n",
    "        cell_bc    = line.strip().split('\\t')[0] + '-1'\n",
    "        num_sgRNA  = line.strip().split('\\t')[2]\n",
    "        sgRNA_list = line.strip().split('\\t')[3].split(';')\n",
    "        umi_list   = line.strip().split('\\t')[5].split(';')\n",
    "        full_cell_bc = cell_bc\n",
    "        for i in zip(sgRNA_list, umi_list):\n",
    "            data_dict[full_cell_bc][i[0]] = i[1]\n",
    "    \n",
    "    #read the 2D dictionary into the pandas DataFrame\n",
    "    df = pd.DataFrame(data_dict).fillna(0).astype(int)    \n",
    "    return df\n",
    "\n",
    "#filter the sgRNA UMI count based on the cutoff values\n",
    "def filter_umi (df):\n",
    "    #calculate the cutoff value for each sgRNA in the dataset\n",
    "    sgRNA_cutoff = [[turn_point(i, df)] for i in list(df.index)]\n",
    "    \n",
    "    for i in range(0, len(sgRNA_cutoff)):\n",
    "        df.iloc[i, :].loc[df.iloc[i, :] <= sgRNA_cutoff[i][0]] = 0\n",
    "    return df"
   ]
  },
  {
   "cell_type": "code",
   "execution_count": 2,
   "metadata": {},
   "outputs": [],
   "source": [
    "WORK_DIR = '/project/GCRB/Hon_lab/s426305/Sequencing_data_analysis/10X/YW49-YW54_10x_mapping/nova_seq_data/sgRNA_lib_regex/'"
   ]
  },
  {
   "cell_type": "markdown",
   "metadata": {},
   "source": [
    "YW61_df = load_data(WORK_DIR + 'YW61.summarized_sgRNA/YW61.sgRNA_count.txt')\n",
    "#YW62_df = load_data(WORK_DIR + 'YW62.summarized_sgRNA/YW62.sgRNA_count.txt')\n",
    "#YW63_df = load_data(WORK_DIR + 'YW63.summarized_sgRNA/YW63.sgRNA_count.txt')\n",
    "#YW64_df = load_data(WORK_DIR + 'YW64.summarized_sgRNA/YW64.sgRNA_count.txt')\n",
    "#YW65_df = load_data(WORK_DIR + 'YW65.summarized_sgRNA/YW65.sgRNA_count.txt')\n",
    "#YW66_df = load_data(WORK_DIR + 'YW66.summarized_sgRNA/YW66.sgRNA_count.txt')"
   ]
  },
  {
   "cell_type": "markdown",
   "metadata": {},
   "source": [
    "YW61_df_adj = filter_umi(YW61_df)\n",
    "#YW62_df_adj = filter_umi(YW62_df)\n",
    "#YW63_df_adj = filter_umi(YW63_df)\n",
    "#YW64_df_adj = filter_umi(YW64_df)\n",
    "#YW65_df_adj = filter_umi(YW65_df)\n",
    "#YW66_df_adj = filter_umi(YW66_df)"
   ]
  },
  {
   "cell_type": "markdown",
   "metadata": {},
   "source": [
    "#### rename the column for each df"
   ]
  },
  {
   "cell_type": "markdown",
   "metadata": {},
   "source": [
    "def rename_BC(df, number):\n",
    "    BC_list = []\n",
    "    for i in df.columns:\n",
    "        new_BC = i + number\n",
    "        BC_list.append(new_BC)\n",
    "\n",
    "    df.columns = BC_list"
   ]
  },
  {
   "cell_type": "markdown",
   "metadata": {},
   "source": [
    "#rename_BC(YW62_df_adj, '-2')\n",
    "rename_BC(YW63_df_adj, '-3')\n",
    "rename_BC(YW64_df_adj, '-4')\n",
    "rename_BC(YW65_df_adj, '-5')\n",
    "rename_BC(YW66_df_adj, '-6')"
   ]
  },
  {
   "cell_type": "markdown",
   "metadata": {},
   "source": [
    "#### combine all the df"
   ]
  },
  {
   "cell_type": "code",
   "execution_count": 4,
   "metadata": {},
   "outputs": [],
   "source": [
    "YW61 = pd.read_pickle(WORK_DIR + 'YW61.sgRNA_adj_df_UMI2.pkl')\n",
    "YW62 = pd.read_pickle(WORK_DIR + 'YW62.sgRNA_adj_df_UMI2.pkl')\n",
    "YW63 = pd.read_pickle(WORK_DIR + 'YW63.sgRNA_adj_df_UMI2.pkl')\n",
    "YW64 = pd.read_pickle(WORK_DIR + 'YW64.sgRNA_adj_df_UMI2.pkl')\n",
    "YW65 = pd.read_pickle(WORK_DIR + 'YW65.sgRNA_adj_df_UMI2.pkl')\n",
    "YW66 = pd.read_pickle(WORK_DIR + 'YW66.sgRNA_adj_df_UMI2.pkl')"
   ]
  },
  {
   "cell_type": "code",
   "execution_count": 6,
   "metadata": {},
   "outputs": [
    {
     "name": "stderr",
     "output_type": "stream",
     "text": [
      "/home2/s426305/.conda/envs/py36/lib/python3.6/site-packages/ipykernel_launcher.py:1: FutureWarning: Sorting because non-concatenation axis is not aligned. A future version\n",
      "of pandas will change to not sort by default.\n",
      "\n",
      "To accept the future behavior, pass 'sort=False'.\n",
      "\n",
      "To retain the current behavior and silence the warning, pass 'sort=True'.\n",
      "\n",
      "  \"\"\"Entry point for launching an IPython kernel.\n"
     ]
    }
   ],
   "source": [
    "sgRNA_df_adj_nova_regex = pd.concat([YW61, YW62, YW63, YW64, YW65, YW66], axis=1)"
   ]
  },
  {
   "cell_type": "code",
   "execution_count": 7,
   "metadata": {},
   "outputs": [
    {
     "data": {
      "text/plain": [
       "(20133, 77218)"
      ]
     },
     "execution_count": 7,
     "metadata": {},
     "output_type": "execute_result"
    }
   ],
   "source": [
    "sgRNA_df_adj_nova_regex.shape"
   ]
  },
  {
   "cell_type": "markdown",
   "metadata": {},
   "source": [
    "sgRNA_df_adj_nova_regex.to_pickle('/project/GCRB/Hon_lab/s426305/Analysis/Mosaic_seq_MB231-dCas9-KRAB+YWsg1/Files/sgrna_df_adj_nova_regex.pkl')"
   ]
  },
  {
   "cell_type": "markdown",
   "metadata": {},
   "source": [
    "### Calculate average number of guides per cell"
   ]
  },
  {
   "cell_type": "code",
   "execution_count": 8,
   "metadata": {},
   "outputs": [],
   "source": [
    "def get_sgrna_per_cell(df, return_mean=True, return_median=True):\n",
    "    CorrSgrnaPerCell = np.sum(df > 0, 0)\n",
    "    sgrna_mean = np.mean(CorrSgrnaPerCell)\n",
    "    sgrna_median = np.median(CorrSgrnaPerCell)\n",
    "    print(\"Average sgRNA Number per Cell is: \" + str(sgrna_mean))\n",
    "    \n",
    "    if return_mean & return_median:\n",
    "        return CorrSgrnaPerCell, sgrna_mean, sgrna_median\n",
    "    elif return_mean:\n",
    "        return CorrSgrnaPerCell, sgrna_mean\n",
    "    elif return_median:\n",
    "        return CorrSgrnaPerCell, sgrna_median\n",
    "    else:\n",
    "        return CorrSgrnaPerCell"
   ]
  },
  {
   "cell_type": "code",
   "execution_count": 4,
   "metadata": {},
   "outputs": [],
   "source": [
    "sgRNA_df_adj_nova_regex = pd.read_pickle('/home2/s426305/jupyter_notebooks/MOSAIC-seq_analysis/YW49-YW61_Nova_Seq/sgrna_df_adj_nova_regex.pkl')\n",
    "#sgrna_df_adj_next_kallisto = pd.read_pickle('/home2/s426305/jupyter_notebooks/10x/YW49-YW66/Regex_kallisto pipelines comparison/sgRNA_combined_kallisto_adj.pkl')"
   ]
  },
  {
   "cell_type": "code",
   "execution_count": 9,
   "metadata": {},
   "outputs": [
    {
     "name": "stdout",
     "output_type": "stream",
     "text": [
      "Average sgRNA Number per Cell is: 44.74946256054288\n"
     ]
    }
   ],
   "source": [
    "CorrSgrnaPerCell_regex, sgrna_mean_regex , sgrna_median_regex = get_sgrna_per_cell(sgRNA_df_adj_nova_regex, return_mean=True, return_median=True)"
   ]
  },
  {
   "cell_type": "code",
   "execution_count": 10,
   "metadata": {},
   "outputs": [],
   "source": [
    "sgRNA_df_adj_nova_regex.to_pickle(WORK_DIR + 'sgRNA_df_adj_nova_UMI2.pkl')"
   ]
  },
  {
   "cell_type": "markdown",
   "metadata": {},
   "source": [
    "CorrSgrnaPerCell_kallisto, sgrna_mean_kallisto , sgrna_median_kallisto = get_sgrna_per_cell(sgrna_df_adj_next_kallisto, return_mean=True, return_median=True)"
   ]
  },
  {
   "cell_type": "code",
   "execution_count": 26,
   "metadata": {},
   "outputs": [
    {
     "data": {
      "text/plain": [
       "GTAATGCTCCGAAATC-1    35\n",
       "GTGTAACTCGGAGTAG-1    32\n",
       "GGGAGTACACTCATAG-1    42\n",
       "AGCCAATTCACTGATG-1    32\n",
       "AGACCCGCAGCAGTGA-1    20\n",
       "                      ..\n",
       "AGCCAATAGCTCCACG-6     0\n",
       "CACGGGTCAATGTGGG-6     0\n",
       "GCTGAATTCGGCATAT-6     0\n",
       "AGCCACGGTGCGACAA-6     0\n",
       "AGTAGTCTCGTGGAAG-6     0\n",
       "Length: 77540, dtype: int64"
      ]
     },
     "execution_count": 26,
     "metadata": {},
     "output_type": "execute_result"
    }
   ],
   "source": [
    "CorrSgrnaPerCell_regex"
   ]
  },
  {
   "cell_type": "code",
   "execution_count": 25,
   "metadata": {},
   "outputs": [
    {
     "data": {
      "text/plain": [
       "array([[35],\n",
       "       [32],\n",
       "       [42],\n",
       "       ...,\n",
       "       [ 1],\n",
       "       [ 1],\n",
       "       [ 1]])"
      ]
     },
     "execution_count": 25,
     "metadata": {},
     "output_type": "execute_result"
    }
   ],
   "source": [
    "CorrSgrnaPerCell_regex[np.argwhere(CorrSgrnaPerCell_regex.values > 0)]"
   ]
  },
  {
   "cell_type": "code",
   "execution_count": 27,
   "metadata": {},
   "outputs": [
    {
     "data": {
      "image/png": "[encoded data removed]",
      "text/plain": [
       "<Figure size 864x576 with 1 Axes>"
      ]
     },
     "metadata": {
      "needs_background": "light"
     },
     "output_type": "display_data"
    }
   ],
   "source": [
    "color_map = ['#348ABD', '#A60628', '#7A68A6', '#467821', '#D55E00', '#CC79A7', '#56B4E9', '#009E73', '#F0E442', '#0072B2']\n",
    "\n",
    "fig, ax = plt.subplots(figsize= (12,8))\n",
    "ax.grid(ls='--', color='#D8D8D8')\n",
    "ax.set_xlim(0,200)\n",
    "\n",
    "ax.hist(CorrSgrnaPerCell_regex[np.argwhere(CorrSgrnaPerCell_regex.values > 0)], \n",
    "        color=color_map[0],\n",
    "        bins=500, \n",
    "        density=True, \n",
    "        alpha=.5)\n",
    "\n",
    "\"\"\"\n",
    "ax.hist(CorrSgrnaPerCell_kallisto,\n",
    "        color=color_map[1],\n",
    "        bins=100, \n",
    "        density=True, \n",
    "        alpha=.5)\n",
    "\"\"\"\n",
    "\n",
    "ax.axvline(sgrna_mean_regex, \n",
    "           ls='--', \n",
    "           color=color_map[0])\n",
    "\n",
    "\"\"\"\n",
    "ax.axvline(sgrna_mean_kallisto, \n",
    "           ls='--', \n",
    "           color=color_map[1])\n",
    "\"\"\"\n",
    "\n",
    "\n",
    "xmin = 0\n",
    "xmax = 200\n",
    "ymin, ymax = ax.get_ylim()\n",
    "x_offset = (xmax - xmin) * 0.02\n",
    "y_offset = (ymax - ymin) * 0.02\n",
    "\n",
    "\"\"\"\n",
    "ax.text((sgrna_mean_kallisto + x_offset), \n",
    "        (0.03 + y_offset), \n",
    "        \"Kallisto Mean = \" + str(np.round(sgrna_mean_kallisto, decimals=2)), \n",
    "        color=color_map[1], \n",
    "        fontsize=16)\n",
    "\"\"\"\n",
    "\n",
    "ax.text((sgrna_mean_regex + x_offset), \n",
    "        (0.02 + y_offset), \n",
    "        \"Mean = \" + str(np.round(sgrna_mean_regex, decimals=2)), \n",
    "        color=color_map[0], \n",
    "        fontsize=16)\n",
    "\n",
    "\n",
    "\n",
    "ax.set_facecolor('#E9E9E9')\n",
    "ax.set_ylabel('Density', fontsize=18)\n",
    "ax.set_xlabel('#sgRNA per cell', fontsize=18)\n",
    "ax.set_title(\"sgRNA per cell\", fontsize=20)\n",
    "plt.show()"
   ]
  },
  {
   "cell_type": "code",
   "execution_count": 28,
   "metadata": {},
   "outputs": [],
   "source": [
    "fig.savefig('/project/GCRB/Hon_lab/s426305/Analysis/Mosaic_seq_MB231-dCas9-KRAB+YWsg1/Files/regex_sgrna_per_cell_hist.png', dpi=200)"
   ]
  }
 ],
 "metadata": {
  "kernelspec": {
   "display_name": "py36",
   "language": "python",
   "name": "py36"
  },
  "language_info": {
   "codemirror_mode": {
    "name": "ipython",
    "version": 3
   },
   "file_extension": ".py",
   "mimetype": "text/x-python",
   "name": "python",
   "nbconvert_exporter": "python",
   "pygments_lexer": "ipython3",
   "version": "3.6.7"
  }
 },
 "nbformat": 4,
 "nbformat_minor": 2
}
